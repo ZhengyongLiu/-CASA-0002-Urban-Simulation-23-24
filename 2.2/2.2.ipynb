{
 "cells": [
  {
   "cell_type": "markdown",
   "metadata": {},
   "source": [
    "## Weighted_Global_Efficiency"
   ]
  },
  {
   "cell_type": "code",
   "execution_count": null,
   "metadata": {},
   "outputs": [],
   "source": [
    "import networkx as nx\n",
    "\n",
    "def Weighted_Global_Efficiency(graph):\n",
    "    if len(graph) <= 1:\n",
    "        return 0\n",
    "    N = len(graph)\n",
    "    weighted_inverse_path_length_sum = 0.0\n",
    "    total_flow_sum = 0.0\n",
    "    for j in graph.nodes():\n",
    "        for k in graph.nodes():\n",
    "            if j != k:\n",
    "                try:\n",
    "                    \n",
    "                    shortest_path = nx.shortest_path(graph, source=j, target=k)\n",
    "                    path_length = nx.shortest_path_length(graph, source=j, target=k)\n",
    "                    \n",
    "                    path_flow = sum(graph[shortest_path[i]][shortest_path[i + 1]]['flows']\n",
    "                                    for i in range(len(shortest_path) - 1))\n",
    "                    weighted_inverse_path_length_sum += (path_flow / path_length)\n",
    "                    total_flow_sum += path_flow\n",
    "                except nx.NetworkXNoPath:\n",
    "                    continue\n",
    "    if total_flow_sum == 0: \n",
    "        return 0\n",
    "    mean_weighted_inverse_path_length = weighted_inverse_path_length_sum / total_flow_sum\n",
    "    return mean_weighted_inverse_path_length\n"
   ]
  },
  {
   "cell_type": "markdown",
   "metadata": {},
   "source": [
    "## Weighted_LCC"
   ]
  },
  {
   "cell_type": "code",
   "execution_count": null,
   "metadata": {},
   "outputs": [],
   "source": [
    "def calculate_weighted_lcc(graph):\n",
    "    if len(graph) == 0:\n",
    "        return 0\n",
    "\n",
    "    component_flows = {}\n",
    " \n",
    "    for component in nx.connected_components(graph):\n",
    "        total_flow = 0\n",
    "        component_tuple = tuple(component) \n",
    "        for node in component:\n",
    "            for neighbor in graph.neighbors(node):\n",
    "                if neighbor in component:\n",
    "                    edge_data = graph.get_edge_data(node, neighbor)\n",
    "                    if edge_data:\n",
    "                        total_flow += edge_data.get('flows', 0)\n",
    "        component_flows[component_tuple] = total_flow\n",
    "\n",
    "    largest_flow_component = max(component_flows.values()) if component_flows else 0\n",
    "\n",
    "    total_flows = sum(component_flows.values())\n",
    "\n",
    "    return largest_flow_component / total_flows if total_flows else 0\n"
   ]
  }
 ],
 "metadata": {
  "kernelspec": {
   "display_name": "Python 3",
   "language": "python",
   "name": "python3"
  },
  "language_info": {
   "name": "python",
   "version": "3.9.6"
  }
 },
 "nbformat": 4,
 "nbformat_minor": 2
}
